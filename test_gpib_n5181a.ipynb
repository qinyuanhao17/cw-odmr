{
 "cells": [
  {
   "cell_type": "code",
   "execution_count": 1,
   "metadata": {},
   "outputs": [
    {
     "data": {
      "text/plain": [
       "('GPIB0::19::INSTR',)"
      ]
     },
     "execution_count": 1,
     "metadata": {},
     "output_type": "execute_result"
    }
   ],
   "source": [
    "import pyvisa\n",
    "rm = pyvisa.ResourceManager()\n",
    "ls = rm.list_resources()\n",
    "ls"
   ]
  },
  {
   "cell_type": "code",
   "execution_count": 6,
   "metadata": {},
   "outputs": [],
   "source": [
    "rf_port='GPIB0::19::INSTR'\n",
    "_gpib_connection = rm.open_resource(rf_port)\n"
   ]
  },
  {
   "cell_type": "code",
   "execution_count": 7,
   "metadata": {},
   "outputs": [
    {
     "data": {
      "text/plain": [
       "20"
      ]
     },
     "execution_count": 7,
     "metadata": {},
     "output_type": "execute_result"
    }
   ],
   "source": [
    "_gpib_connection.write(':LIST:TYPE LIST')\n",
    "_gpib_connection.write(':FREQ:MODE LIST')\n",
    "_gpib_connection.write(':POW:MODE LIST')\n",
    "\n",
    "_gpib_connection.write(':TRIGger:SOURce EXT')\n",
    "\n",
    "# set a external trigger source to move the points in the list\n",
    "_gpib_connection.write(':LIST:TRIGger:SOURce EXT')\n",
    "\n",
    "# _gpib_connection.write(':LIST:TRIGger:SLOPe POS')\n",
    "_gpib_connection.write(':LIST:DIRection UP')"
   ]
  },
  {
   "cell_type": "code",
   "execution_count": 8,
   "metadata": {},
   "outputs": [
    {
     "data": {
      "text/plain": [
       "3"
      ]
     },
     "execution_count": 8,
     "metadata": {},
     "output_type": "execute_result"
    }
   ],
   "source": [
    "10//3"
   ]
  }
 ],
 "metadata": {
  "kernelspec": {
   "display_name": "cw_odmr",
   "language": "python",
   "name": "python3"
  },
  "language_info": {
   "codemirror_mode": {
    "name": "ipython",
    "version": 3
   },
   "file_extension": ".py",
   "mimetype": "text/x-python",
   "name": "python",
   "nbconvert_exporter": "python",
   "pygments_lexer": "ipython3",
   "version": "3.9.17"
  }
 },
 "nbformat": 4,
 "nbformat_minor": 2
}
