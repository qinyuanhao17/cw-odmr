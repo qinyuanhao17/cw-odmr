{
 "cells": [
  {
   "cell_type": "code",
   "execution_count": 1,
   "metadata": {},
   "outputs": [],
   "source": [
    "import nidaqmx\n",
    "from nidaqmx.constants import *\n",
    "from nidaqmx.stream_readers import CounterReader\n",
    "import numpy as np"
   ]
  },
  {
   "cell_type": "code",
   "execution_count": 2,
   "metadata": {},
   "outputs": [
    {
     "name": "stdout",
     "output_type": "stream",
     "text": [
      "/Dev2/PFI0\n"
     ]
    }
   ],
   "source": [
    "task = nidaqmx.Task()\n",
    "channel = task.ci_channels.add_ci_count_edges_chan(\n",
    "\n",
    "    counter='/Dev2/ctr0',\n",
    "\n",
    "    edge=Edge.RISING,\n",
    "\n",
    "    count_direction=CountDirection.COUNT_UP\n",
    "\n",
    ")\n",
    "channel.ci_count_edges_term = '/Dev2/PFI0'\n",
    "channel.ci_count_edges_count_reset_term = '/Dev2/PFI2'\n",
    "channel.ci_count_edges_active_edge = Edge.RISING\n",
    "task.timing.cfg_samp_clk_timing(\n",
    "    rate=2E6,\n",
    "    source='/Dev2/PFI1',\n",
    "    active_edge=Edge.RISING,\n",
    "    sample_mode=AcquisitionType.CONTINUOUS,\n",
    "    samps_per_chan=4\n",
    ")\n",
    "print(channel.ci_count_edges_term)"
   ]
  },
  {
   "cell_type": "code",
   "execution_count": 3,
   "metadata": {},
   "outputs": [],
   "source": [
    "task.start()"
   ]
  },
  {
   "cell_type": "code",
   "execution_count": 68,
   "metadata": {},
   "outputs": [
    {
     "name": "stdout",
     "output_type": "stream",
     "text": [
      "[118099 118199 118298 118398 118499 118599 118698 118798 118899 118999\n",
      " 119098 119198 119299 119399 119498 119598 119699 119799 119898 119999\n",
      " 120099 120198 120298 120399 120499 120598 120699 120799 120898 120999\n",
      " 121099 121198 121299 121398 121498 121599 121698 121799 121899 121998\n",
      " 122099 122198 122298 122399 122498 122599 122699 122798 122899 122998\n",
      " 123099 123198 123299 123399 123498 123599 123698 123799 123898 123999\n",
      " 124098 124199 124299 124399 124499 124598 124699 124798 124899 124998\n",
      " 125099 125198 125299 125399 125499 125599 125698 125799 125898 125999\n",
      " 126098 126199 126298 126399 126498 126599 126699 126798 126899 126998\n",
      " 127099 127198 127299 127399 127498 127599 127698 127799 127899 127998]\n",
      "128006\n"
     ]
    }
   ],
   "source": [
    "number_of_samples = 100\n",
    "data_array = np.zeros(number_of_samples,dtype=np.uint32)\n",
    "reader = CounterReader(task.in_stream)\n",
    "reader.read_many_sample_uint32(\n",
    "    data=data_array,\n",
    "    number_of_samples_per_channel=number_of_samples,\n",
    "    timeout=10\n",
    ")\n",
    "\n",
    "print(data_array)\n",
    "print(channel.ci_count)\n"
   ]
  },
  {
   "cell_type": "code",
   "execution_count": 158,
   "metadata": {},
   "outputs": [],
   "source": [
    "task.stop()"
   ]
  },
  {
   "cell_type": "code",
   "execution_count": 159,
   "metadata": {},
   "outputs": [],
   "source": [
    "\n",
    "task.close()"
   ]
  }
 ],
 "metadata": {
  "kernelspec": {
   "display_name": "Python 3",
   "language": "python",
   "name": "python3"
  },
  "language_info": {
   "codemirror_mode": {
    "name": "ipython",
    "version": 3
   },
   "file_extension": ".py",
   "mimetype": "text/x-python",
   "name": "python",
   "nbconvert_exporter": "python",
   "pygments_lexer": "ipython3",
   "version": "3.9.15"
  }
 },
 "nbformat": 4,
 "nbformat_minor": 2
}
