{
 "cells": [
  {
   "cell_type": "code",
   "execution_count": 1,
   "metadata": {},
   "outputs": [],
   "source": [
    "import nidaqmx\n",
    "from nidaqmx.constants import *\n",
    "from nidaqmx.stream_readers import CounterReader\n",
    "import numpy as np"
   ]
  },
  {
   "cell_type": "code",
   "execution_count": 2,
   "metadata": {},
   "outputs": [
    {
     "name": "stdout",
     "output_type": "stream",
     "text": [
      "/Dev2/PFI0\n"
     ]
    }
   ],
   "source": [
    "task = nidaqmx.Task()\n",
    "channel = task.ci_channels.add_ci_count_edges_chan(\n",
    "\n",
    "    counter='/Dev2/ctr0',\n",
    "\n",
    "    edge=Edge.RISING,\n",
    "\n",
    "    count_direction=CountDirection.COUNT_UP\n",
    "\n",
    ")\n",
    "channel.ci_count_edges_term = '/Dev2/PFI0'\n",
    "channel.ci_count_edges_count_reset_term = '/Dev2/PFI2'\n",
    "channel.ci_count_edges_active_edge = Edge.RISING\n",
    "task.timing.cfg_samp_clk_timing(\n",
    "    rate=2E6,\n",
    "    source='/Dev2/PFI1',\n",
    "    active_edge=Edge.RISING,\n",
    "    sample_mode=AcquisitionType.CONTINUOUS,\n",
    "    samps_per_chan=4\n",
    ")\n",
    "print(channel.ci_count_edges_term)"
   ]
  },
  {
   "cell_type": "code",
   "execution_count": 3,
   "metadata": {},
   "outputs": [],
   "source": [
    "task.start()"
   ]
  },
  {
   "cell_type": "code",
   "execution_count": 68,
   "metadata": {},
   "outputs": [
    {
     "name": "stdout",
     "output_type": "stream",
     "text": [
      "[118099 118199 118298 118398 118499 118599 118698 118798 118899 118999\n",
      " 119098 119198 119299 119399 119498 119598 119699 119799 119898 119999\n",
      " 120099 120198 120298 120399 120499 120598 120699 120799 120898 120999\n",
      " 121099 121198 121299 121398 121498 121599 121698 121799 121899 121998\n",
      " 122099 122198 122298 122399 122498 122599 122699 122798 122899 122998\n",
      " 123099 123198 123299 123399 123498 123599 123698 123799 123898 123999\n",
      " 124098 124199 124299 124399 124499 124598 124699 124798 124899 124998\n",
      " 125099 125198 125299 125399 125499 125599 125698 125799 125898 125999\n",
      " 126098 126199 126298 126399 126498 126599 126699 126798 126899 126998\n",
      " 127099 127198 127299 127399 127498 127599 127698 127799 127899 127998]\n",
      "128006\n"
     ]
    }
   ],
   "source": [
    "number_of_samples = 100\n",
    "data_array = np.zeros(number_of_samples,dtype=np.uint32)\n",
    "reader = CounterReader(task.in_stream)\n",
    "reader.read_many_sample_uint32(\n",
    "    data=data_array,\n",
    "    number_of_samples_per_channel=number_of_samples,\n",
    "    timeout=10\n",
    ")\n",
    "\n",
    "print(data_array)\n",
    "print(channel.ci_count)\n"
   ]
  },
  {
   "cell_type": "code",
   "execution_count": 78,
   "metadata": {},
   "outputs": [
    {
     "data": {
      "text/plain": [
       "[218099,\n",
       " 218199,\n",
       " 218298,\n",
       " 218398,\n",
       " 218498,\n",
       " 218599,\n",
       " 218699,\n",
       " 218799,\n",
       " 218899,\n",
       " 218998,\n",
       " 219098,\n",
       " 219198,\n",
       " 219299,\n",
       " 219399,\n",
       " 219499,\n",
       " 219599,\n",
       " 219699,\n",
       " 219798,\n",
       " 219898,\n",
       " 219998,\n",
       " 220099,\n",
       " 220199,\n",
       " 220299,\n",
       " 220399,\n",
       " 220498,\n",
       " 220598,\n",
       " 220698,\n",
       " 220799,\n",
       " 220899,\n",
       " 220999,\n",
       " 221099,\n",
       " 221198,\n",
       " 221298,\n",
       " 221398,\n",
       " 221499,\n",
       " 221599,\n",
       " 221699,\n",
       " 221799,\n",
       " 221898,\n",
       " 221998,\n",
       " 222099,\n",
       " 222199,\n",
       " 222299,\n",
       " 222398,\n",
       " 222498,\n",
       " 222598,\n",
       " 222699,\n",
       " 222799,\n",
       " 222899,\n",
       " 222998,\n",
       " 223098,\n",
       " 223198,\n",
       " 223299,\n",
       " 223399,\n",
       " 223499,\n",
       " 223599,\n",
       " 223698,\n",
       " 223798,\n",
       " 223899,\n",
       " 223999,\n",
       " 224099,\n",
       " 224198,\n",
       " 224298,\n",
       " 224398,\n",
       " 224499,\n",
       " 224599,\n",
       " 224699,\n",
       " 224798,\n",
       " 224898,\n",
       " 224998,\n",
       " 225099,\n",
       " 225199,\n",
       " 225298,\n",
       " 225398,\n",
       " 225498,\n",
       " 225599,\n",
       " 225699,\n",
       " 225799,\n",
       " 225898,\n",
       " 225998,\n",
       " 226098,\n",
       " 226199,\n",
       " 226299,\n",
       " 226399,\n",
       " 226498,\n",
       " 226598,\n",
       " 226699,\n",
       " 226799,\n",
       " 226899,\n",
       " 226998,\n",
       " 227098,\n",
       " 227199,\n",
       " 227299,\n",
       " 227399,\n",
       " 227498,\n",
       " 227598,\n",
       " 227699,\n",
       " 227799,\n",
       " 227899,\n",
       " 227998]"
      ]
     },
     "execution_count": 78,
     "metadata": {},
     "output_type": "execute_result"
    }
   ],
   "source": [
    "task.read(number_of_samples)"
   ]
  },
  {
   "cell_type": "code",
   "execution_count": 158,
   "metadata": {},
   "outputs": [],
   "source": [
    "task.stop()"
   ]
  },
  {
   "cell_type": "code",
   "execution_count": 159,
   "metadata": {},
   "outputs": [],
   "source": [
    "\n",
    "task.close()"
   ]
  }
 ],
 "metadata": {
  "kernelspec": {
   "display_name": "Python 3",
   "language": "python",
   "name": "python3"
  },
  "language_info": {
   "codemirror_mode": {
    "name": "ipython",
    "version": 3
   },
   "file_extension": ".py",
   "mimetype": "text/x-python",
   "name": "python",
   "nbconvert_exporter": "python",
   "pygments_lexer": "ipython3",
   "version": "3.9.15"
  }
 },
 "nbformat": 4,
 "nbformat_minor": 2
}
